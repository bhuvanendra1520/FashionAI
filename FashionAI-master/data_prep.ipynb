{
 "cells": [
  {
   "cell_type": "code",
   "execution_count": 17,
   "id": "79505e60-97cc-407f-bb1d-a82a5f9a43a5",
   "metadata": {
    "tags": []
   },
   "outputs": [],
   "source": [
    "import os\n",
    "import pandas as pd\n",
    "import pickle"
   ]
  },
  {
   "cell_type": "code",
   "execution_count": 11,
   "id": "16626d53-8b5b-4441-ac88-b7865e68ac00",
   "metadata": {
    "tags": []
   },
   "outputs": [],
   "source": [
    "files = []\n",
    "file_path = '/home/jupyter/AttentionGAN/AttnGAN-main/data/fashion/CUB_200_2011/images/'\n",
    "for file in os.listdir(file_path):\n",
    "    files.append(file)"
   ]
  },
  {
   "cell_type": "code",
   "execution_count": 13,
   "id": "723cbdea-41b8-4455-b5b8-aee0725b8df4",
   "metadata": {
    "tags": []
   },
   "outputs": [
    {
     "data": {
      "text/plain": [
       "34737"
      ]
     },
     "execution_count": 13,
     "metadata": {},
     "output_type": "execute_result"
    }
   ],
   "source": [
    "len(files)"
   ]
  },
  {
   "cell_type": "code",
   "execution_count": 14,
   "id": "38b8400c-1cd8-4975-8be7-1c6c1c91685a",
   "metadata": {
    "tags": []
   },
   "outputs": [],
   "source": [
    "import pickle\n",
    "\n",
    "with open('remaining', 'wb') as fp:\n",
    "    pickle.dump(files, fp)"
   ]
  },
  {
   "cell_type": "code",
   "execution_count": 18,
   "id": "2e40a99e-02ab-4c87-b12b-63398df6156f",
   "metadata": {
    "tags": []
   },
   "outputs": [],
   "source": [
    "a= ['WOMEN-Blouses_Shirts-id_00006144-01_7_additional' , 'MEN-Sweaters-id_00005177-03_3_back',\n",
    "'WOMEN-Dresses-id_00000825-02_7_additional', 'MEN-Sweatshirts_Hoodies-id_00000881-02_7_additional',\n",
    "'WOMEN-Blouses_Shirts-id_00003610-04_7_additional', 'WOMEN-Dresses-id_00002980-02_7_additional',\n",
    "'WOMEN-Sweaters-id_00001262-08_3_back']"
   ]
  },
  {
   "cell_type": "code",
   "execution_count": 19,
   "id": "935a8b44-ee38-4bc4-a4db-fafae18581a3",
   "metadata": {},
   "outputs": [],
   "source": [
    "train_files = pd.read_pickle(\"/home/jupyter/AttentionGAN/AttnGAN-main/data/fashion/train/filenames.pickle\")"
   ]
  },
  {
   "cell_type": "code",
   "execution_count": 20,
   "id": "4f9d6741-ff63-4c28-9211-02f1eff7dba8",
   "metadata": {
    "tags": []
   },
   "outputs": [
    {
     "name": "stdout",
     "output_type": "stream",
     "text": [
      "WOMEN-Blouses_Shirts-id_00006144-01_7_additional\n",
      "MEN-Sweaters-id_00005177-03_3_back\n",
      "WOMEN-Dresses-id_00000825-02_7_additional\n",
      "MEN-Sweatshirts_Hoodies-id_00000881-02_7_additional\n",
      "WOMEN-Blouses_Shirts-id_00003610-04_7_additional\n",
      "WOMEN-Dresses-id_00002980-02_7_additional\n"
     ]
    }
   ],
   "source": [
    "for i in a:\n",
    "    if i in train_files:\n",
    "        train_files.remove(i)\n",
    "        print(i)"
   ]
  },
  {
   "cell_type": "code",
   "execution_count": 21,
   "id": "3f406c2d-8f7a-4357-ab67-084e2dfedb9e",
   "metadata": {
    "tags": []
   },
   "outputs": [],
   "source": [
    "for i in a:\n",
    "    if i in test_files:\n",
    "        test_files.remove(i)\n",
    "        print(i)"
   ]
  },
  {
   "cell_type": "code",
   "execution_count": 22,
   "id": "d384e002-366c-4d43-8466-d8e6b54664d6",
   "metadata": {
    "tags": []
   },
   "outputs": [],
   "source": [
    "with open('/home/jupyter/AttentionGAN/AttnGAN-main/data/fashion/train/filenames.pickle', 'wb') as fp:\n",
    "    pickle.dump(train_files, fp)"
   ]
  },
  {
   "cell_type": "code",
   "execution_count": 23,
   "id": "b175ce35-d91e-4a4a-95ae-6d49e2098bc5",
   "metadata": {
    "tags": []
   },
   "outputs": [],
   "source": [
    "with open('/home/jupyter/AttentionGAN/AttnGAN-main/data/fashion/test/filenames.pickle', 'wb') as fp:\n",
    "    pickle.dump(test_files, fp)"
   ]
  },
  {
   "cell_type": "code",
   "execution_count": 4,
   "id": "d40ac9d3-656a-4b44-9b16-c43dd6f8f79a",
   "metadata": {
    "tags": []
   },
   "outputs": [],
   "source": [
    "test_files = pd.read_pickle(\"/home/jupyter/AttentionGAN/AttnGAN-main/data/fashion/test/filenames.pickle\")"
   ]
  },
  {
   "cell_type": "code",
   "execution_count": 6,
   "id": "eef3ee10-bf42-4591-9533-dec5dee54ad0",
   "metadata": {
    "tags": []
   },
   "outputs": [],
   "source": [
    "text_files = os.listdir(r'/home/jupyter/AttentionGAN/AttnGAN-main/data/fashion/text/')"
   ]
  },
  {
   "cell_type": "code",
   "execution_count": 7,
   "id": "7cba0816-54a4-4e77-ad67-dc7de7a27808",
   "metadata": {
    "tags": []
   },
   "outputs": [
    {
     "data": {
      "text/plain": [
       "42545"
      ]
     },
     "execution_count": 7,
     "metadata": {},
     "output_type": "execute_result"
    }
   ],
   "source": [
    "len(text_files)"
   ]
  },
  {
   "cell_type": "code",
   "execution_count": 5,
   "id": "e4fce622-da13-484e-9f81-30bfb09c8dfd",
   "metadata": {
    "tags": []
   },
   "outputs": [
    {
     "data": {
      "text/plain": [
       "(36162, 6382)"
      ]
     },
     "execution_count": 5,
     "metadata": {},
     "output_type": "execute_result"
    }
   ],
   "source": [
    "len(train_files),len(test_files)"
   ]
  },
  {
   "cell_type": "code",
   "execution_count": null,
   "id": "1d92774a-f110-4adb-b74e-d1cba5599a4c",
   "metadata": {},
   "outputs": [],
   "source": []
  }
 ],
 "metadata": {
  "environment": {
   "kernel": "conda-root-py",
   "name": "workbench-notebooks.m120",
   "type": "gcloud",
   "uri": "us-docker.pkg.dev/deeplearning-platform-release/gcr.io/workbench-notebooks:m120"
  },
  "kernelspec": {
   "display_name": "Python 3 (ipykernel)",
   "language": "python",
   "name": "conda-root-py"
  },
  "language_info": {
   "codemirror_mode": {
    "name": "ipython",
    "version": 3
   },
   "file_extension": ".py",
   "mimetype": "text/x-python",
   "name": "python",
   "nbconvert_exporter": "python",
   "pygments_lexer": "ipython3",
   "version": "3.10.14"
  }
 },
 "nbformat": 4,
 "nbformat_minor": 5
}
