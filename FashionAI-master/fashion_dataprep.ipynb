{
 "cells": [
  {
   "cell_type": "code",
   "execution_count": 69,
   "metadata": {},
   "outputs": [],
   "source": [
    "import pandas as pd\n",
    "import os\n",
    "from sklearn.model_selection import train_test_split\n",
    "from random import random\n",
    "import pickle\n",
    "import matplotlib.pyplot as plt\n",
    "from wordcloud import WordCloud"
   ]
  },
  {
   "cell_type": "code",
   "execution_count": 70,
   "metadata": {},
   "outputs": [
    {
     "name": "stdout",
     "output_type": "stream",
     "text": [
      "the medium sized bird has a dark grey color, a black downward curved beak, and long wings.\n",
      "the bird is dark grey brown with a thick curved bill and a flat shaped tail.\n",
      "bird has brown body feathers, white breast feathers and black beak\n",
      "this bird has a dark brown overall body color, with a small white patch around the base of the bill.\n",
      "the bird has very long and large brown wings, as well as a black body and a long black beak.\n",
      "it is a type of albatross with black wings, tail, back and beak, and has a white ring at the base of its beak.\n",
      "this bird has brown plumage and a white ring at the base of its long, curved brown beak.\n",
      "the entire body is dark brown, as is the bill, with a white band encircling where the bill meets the head.\n",
      "this bird is gray in color, with a large curved beak.\n",
      "a large gray bird with a long wingspan and a long black beak.\n",
      "\n"
     ]
    }
   ],
   "source": [
    "f = open('/home/aamulya/AttnGAN/AttnGAN-main/data/birds/text/001.Black_footed_Albatross/Black_Footed_Albatross_0001_796111.txt', 'r')\n",
    "print(f.read())\n",
    "f.close()"
   ]
  },
  {
   "cell_type": "code",
   "execution_count": null,
   "metadata": {},
   "outputs": [],
   "source": [
    "text = \" \".join(cat.split()[1] for cat in df.category)"
   ]
  },
  {
   "cell_type": "code",
   "execution_count": null,
   "metadata": {},
   "outputs": [],
   "source": [
    "word_cloud = WordCloud(collocations = False, background_color = 'white').generate(text)"
   ]
  },
  {
   "cell_type": "code",
   "execution_count": null,
   "metadata": {},
   "outputs": [],
   "source": [
    "plt.imshow(wordcloud, interpolation='bilinear')\n",
    "plt.axis(\"off\")\n",
    "plt.show()"
   ]
  },
  {
   "cell_type": "code",
   "execution_count": 56,
   "metadata": {},
   "outputs": [],
   "source": [
    "all_files =[]\n",
    "\n",
    "for file in os.listdir(r'/home/aamulya/AttnGAN/AttnGAN-main/data/birds/CUB_200_2011/images/001.Black_footed_Albatross/'):                    \n",
    "    all_files.append(\"001.Black_footed_Albatross/\"+file)"
   ]
  },
  {
   "cell_type": "code",
   "execution_count": 57,
   "metadata": {},
   "outputs": [
    {
     "data": {
      "text/plain": [
       "60"
      ]
     },
     "execution_count": 57,
     "metadata": {},
     "output_type": "execute_result"
    }
   ],
   "source": [
    "len(all_files)"
   ]
  },
  {
   "cell_type": "code",
   "execution_count": 58,
   "metadata": {},
   "outputs": [],
   "source": [
    "img_files =[x[:-4] for x in all_files]"
   ]
  },
  {
   "cell_type": "code",
   "execution_count": 59,
   "metadata": {},
   "outputs": [
    {
     "data": {
      "text/plain": [
       "['001.Black_footed_Albatross/Black_Footed_Albatross_0076_417',\n",
       " '001.Black_footed_Albatross/Black_Footed_Albatross_0065_796068',\n",
       " '001.Black_footed_Albatross/Black_Footed_Albatross_0086_796062',\n",
       " '001.Black_footed_Albatross/Black_Footed_Albatross_0082_796121',\n",
       " '001.Black_footed_Albatross/Black_Footed_Albatross_0088_796133',\n",
       " '001.Black_footed_Albatross/Black_Footed_Albatross_0081_426',\n",
       " '001.Black_footed_Albatross/Black_Footed_Albatross_0080_796096',\n",
       " '001.Black_footed_Albatross/Black_Footed_Albatross_0071_796113',\n",
       " '001.Black_footed_Albatross/Black_Footed_Albatross_0074_59',\n",
       " '001.Black_footed_Albatross/Black_Footed_Albatross_0010_796097',\n",
       " '001.Black_footed_Albatross/Black_Footed_Albatross_0026_796095',\n",
       " '001.Black_footed_Albatross/Black_Footed_Albatross_0046_18',\n",
       " '001.Black_footed_Albatross/Black_Footed_Albatross_0079_796122',\n",
       " '001.Black_footed_Albatross/Black_Footed_Albatross_0024_796089',\n",
       " '001.Black_footed_Albatross/Black_Footed_Albatross_0019_796104',\n",
       " '001.Black_footed_Albatross/Black_Footed_Albatross_0023_796059',\n",
       " '001.Black_footed_Albatross/Black_Footed_Albatross_0037_796120',\n",
       " '001.Black_footed_Albatross/Black_Footed_Albatross_0036_796127',\n",
       " '001.Black_footed_Albatross/Black_Footed_Albatross_0038_212',\n",
       " '001.Black_footed_Albatross/Black_Footed_Albatross_0061_796082',\n",
       " '001.Black_footed_Albatross/Black_Footed_Albatross_0009_34',\n",
       " '001.Black_footed_Albatross/Black_Footed_Albatross_0040_796066',\n",
       " '001.Black_footed_Albatross/Black_Footed_Albatross_0069_796139',\n",
       " '001.Black_footed_Albatross/Black_Footed_Albatross_0025_796057',\n",
       " '001.Black_footed_Albatross/Black_Footed_Albatross_0053_796109',\n",
       " '001.Black_footed_Albatross/Black_Footed_Albatross_0041_796108',\n",
       " '001.Black_footed_Albatross/Black_Footed_Albatross_0057_796106',\n",
       " '001.Black_footed_Albatross/Black_Footed_Albatross_0035_796140',\n",
       " '001.Black_footed_Albatross/Black_Footed_Albatross_0063_796141',\n",
       " '001.Black_footed_Albatross/Black_Footed_Albatross_0006_796065',\n",
       " '001.Black_footed_Albatross/Black_Footed_Albatross_0033_796086',\n",
       " '001.Black_footed_Albatross/Black_Footed_Albatross_0039_796132',\n",
       " '001.Black_footed_Albatross/Black_Footed_Albatross_0058_796074',\n",
       " '001.Black_footed_Albatross/Black_Footed_Albatross_0051_796103',\n",
       " '001.Black_footed_Albatross/Black_Footed_Albatross_0077_796114',\n",
       " '001.Black_footed_Albatross/Black_Footed_Albatross_0032_796115',\n",
       " '001.Black_footed_Albatross/Black_Footed_Albatross_0045_796129',\n",
       " '001.Black_footed_Albatross/Black_Footed_Albatross_0064_796101',\n",
       " '001.Black_footed_Albatross/Black_Footed_Albatross_0001_796111',\n",
       " '001.Black_footed_Albatross/Black_Footed_Albatross_0042_796071',\n",
       " '001.Black_footed_Albatross/Black_Footed_Albatross_0005_796090',\n",
       " '001.Black_footed_Albatross/Black_Footed_Albatross_0060_796076',\n",
       " '001.Black_footed_Albatross/Black_Footed_Albatross_0050_796125',\n",
       " '001.Black_footed_Albatross/Black_Footed_Albatross_0016_796067',\n",
       " '001.Black_footed_Albatross/Black_Footed_Albatross_0014_89',\n",
       " '001.Black_footed_Albatross/Black_Footed_Albatross_0008_796083',\n",
       " '001.Black_footed_Albatross/Black_Footed_Albatross_0002_55',\n",
       " '001.Black_footed_Albatross/Black_Footed_Albatross_0003_796136',\n",
       " '001.Black_footed_Albatross/Black_Footed_Albatross_0049_796063',\n",
       " '001.Black_footed_Albatross/Black_Footed_Albatross_0067_170',\n",
       " '001.Black_footed_Albatross/Black_Footed_Albatross_0085_92',\n",
       " '001.Black_footed_Albatross/Black_Footed_Albatross_0017_796098',\n",
       " '001.Black_footed_Albatross/Black_Footed_Albatross_0090_796077',\n",
       " '001.Black_footed_Albatross/Black_Footed_Albatross_0089_796069',\n",
       " '001.Black_footed_Albatross/Black_Footed_Albatross_0031_100',\n",
       " '001.Black_footed_Albatross/Black_Footed_Albatross_0078_796126',\n",
       " '001.Black_footed_Albatross/Black_Footed_Albatross_0056_796078',\n",
       " '001.Black_footed_Albatross/Black_Footed_Albatross_0068_796135',\n",
       " '001.Black_footed_Albatross/Black_Footed_Albatross_0007_796138',\n",
       " '001.Black_footed_Albatross/Black_Footed_Albatross_0047_796064']"
      ]
     },
     "execution_count": 59,
     "metadata": {},
     "output_type": "execute_result"
    }
   ],
   "source": [
    "img_files"
   ]
  },
  {
   "cell_type": "code",
   "execution_count": 60,
   "metadata": {},
   "outputs": [],
   "source": [
    "df = pd.DataFrame(img_files,columns=['files'])"
   ]
  },
  {
   "cell_type": "code",
   "execution_count": 61,
   "metadata": {},
   "outputs": [],
   "source": [
    "train, test = train_test_split(df, test_size=0.20)"
   ]
  },
  {
   "cell_type": "code",
   "execution_count": 62,
   "metadata": {},
   "outputs": [
    {
     "data": {
      "text/plain": [
       "(48, 12)"
      ]
     },
     "execution_count": 62,
     "metadata": {},
     "output_type": "execute_result"
    }
   ],
   "source": [
    "len(train),len(test)"
   ]
  },
  {
   "cell_type": "code",
   "execution_count": 63,
   "metadata": {},
   "outputs": [],
   "source": [
    "train_files =[]\n",
    "for i in range(0,len(train)):\n",
    "    train_files.append(train.iloc[i,0])"
   ]
  },
  {
   "cell_type": "code",
   "execution_count": 64,
   "metadata": {},
   "outputs": [],
   "source": [
    "test_files =[]\n",
    "for i in range(0,len(test)):\n",
    "    test_files.append(test.iloc[i,0])"
   ]
  },
  {
   "cell_type": "code",
   "execution_count": 65,
   "metadata": {},
   "outputs": [
    {
     "data": {
      "text/plain": [
       "(48, 12)"
      ]
     },
     "execution_count": 65,
     "metadata": {},
     "output_type": "execute_result"
    }
   ],
   "source": [
    "len(train_files),len(test_files)"
   ]
  },
  {
   "cell_type": "code",
   "execution_count": 66,
   "metadata": {},
   "outputs": [],
   "source": [
    "with open(r'/home/aamulya/AttnGAN/AttnGAN-main/data/birds/train/filenames.pickle', 'wb') as f:\n",
    "    pickle.dump(train_files, f)"
   ]
  },
  {
   "cell_type": "code",
   "execution_count": 67,
   "metadata": {},
   "outputs": [],
   "source": [
    "with open(r'/home/aamulya/AttnGAN/AttnGAN-main/data/birds/test/filenames.pickle', 'wb') as f:\n",
    "    pickle.dump(test_files, f)"
   ]
  },
  {
   "cell_type": "code",
   "execution_count": 8,
   "metadata": {},
   "outputs": [],
   "source": [
    "fold_path = r'C:\\Users\\ambat\\Documents\\NN DL\\fashion\\text'\n",
    "text_files = []\n",
    "for file in os.listdir(fold_path):\n",
    "    text_name = file.split('.')[0]\n",
    "    if text_name in img_files:\n",
    "     text_files.append(text_name)"
   ]
  },
  {
   "cell_type": "code",
   "execution_count": 9,
   "metadata": {},
   "outputs": [
    {
     "data": {
      "text/plain": [
       "33774"
      ]
     },
     "execution_count": 9,
     "metadata": {},
     "output_type": "execute_result"
    }
   ],
   "source": [
    "len(text_files)"
   ]
  },
  {
   "cell_type": "code",
   "execution_count": 10,
   "metadata": {},
   "outputs": [],
   "source": [
    "a= ['WOMEN-Blouses_Shirts-id_00006144-01_7_additional' , 'MEN-Sweaters-id_00005177-03_3_back',\n",
    "'WOMEN-Dresses-id_00000825-02_7_additional', 'MEN-Sweatshirts_Hoodies-id_00000881-02_7_additional',\n",
    "'WOMEN-Blouses_Shirts-id_00003610-04_7_additional', 'WOMEN-Dresses-id_00002980-02_7_additional',\n",
    "'WOMEN-Sweaters-id_00001262-08_3_back']"
   ]
  },
  {
   "cell_type": "code",
   "execution_count": 11,
   "metadata": {},
   "outputs": [
    {
     "data": {
      "text/plain": [
       "33769"
      ]
     },
     "execution_count": 11,
     "metadata": {},
     "output_type": "execute_result"
    }
   ],
   "source": [
    "text_files = [x for x in text_files if x not in a]\n",
    "len(text_files)"
   ]
  },
  {
   "cell_type": "code",
   "execution_count": 12,
   "metadata": {},
   "outputs": [],
   "source": [
    "uploaded_data = r'C:\\Users\\ambat\\Documents\\AttentionGAN\\fashion\\images'\n",
    "uploaded_files =[]\n",
    "for i in os.listdir(uploaded_data):\n",
    "    uploaded_files.append(i.split('.')[0])\n"
   ]
  },
  {
   "cell_type": "code",
   "execution_count": 13,
   "metadata": {},
   "outputs": [
    {
     "data": {
      "text/plain": [
       "5000"
      ]
     },
     "execution_count": 13,
     "metadata": {},
     "output_type": "execute_result"
    }
   ],
   "source": [
    "len(uploaded_files)"
   ]
  },
  {
   "cell_type": "code",
   "execution_count": 15,
   "metadata": {},
   "outputs": [],
   "source": [
    "import shutil\n",
    "srcp = r'C:\\Users\\ambat\\Documents\\NN DL\\fashion\\images'\n",
    "\n",
    "\n",
    "# srcp_txt = r'C:\\Users\\ambat\\Documents\\NN DL\\fashion\\text'\n",
    "# destp_txt = r'C:\\Users\\ambat\\Documents\\AttentionGAN\\fashion_temp2\\text'\n",
    "count = 0\n",
    "a = 0\n",
    "for i in all_files:\n",
    "    if i.split('.')[0] in text_files:\n",
    "        if i.split('.')[0] not in uploaded_files:\n",
    "            if count==0 or count%5000 == 0:\n",
    "                a = a+1\n",
    "                destp = fr'C:\\Users\\ambat\\Documents\\AttentionGAN\\temp{a}\\images'\n",
    "                os.makedirs(destp,exist_ok=True)\n",
    "\n",
    "            count = count+1\n",
    "            src = os.path.join(srcp,i)\n",
    "            dst = os.path.join(destp,i)\n",
    "            shutil.copy(src, dst) \n",
    "\n",
    "\n",
    "            # src_txt = os.path.join(srcp_txt,i.split('.')[0]+'.txt')\n",
    "            # dst_txt = os.path.join(destp_txt,i.split('.')[0]+'.txt')\n",
    "            # shutil.copy(src_txt, dst_txt)  "
   ]
  },
  {
   "cell_type": "code",
   "execution_count": null,
   "metadata": {},
   "outputs": [],
   "source": [
    "train_files = []\n",
    "test_files = []"
   ]
  },
  {
   "cell_type": "code",
   "execution_count": 165,
   "metadata": {},
   "outputs": [],
   "source": [
    "df = pd.DataFrame(text_files,columns=['files'])"
   ]
  },
  {
   "cell_type": "code",
   "execution_count": 166,
   "metadata": {},
   "outputs": [],
   "source": [
    "train, test = train_test_split(df, test_size=0.15)"
   ]
  },
  {
   "cell_type": "code",
   "execution_count": 167,
   "metadata": {},
   "outputs": [
    {
     "data": {
      "text/html": [
       "<div>\n",
       "<style scoped>\n",
       "    .dataframe tbody tr th:only-of-type {\n",
       "        vertical-align: middle;\n",
       "    }\n",
       "\n",
       "    .dataframe tbody tr th {\n",
       "        vertical-align: top;\n",
       "    }\n",
       "\n",
       "    .dataframe thead th {\n",
       "        text-align: right;\n",
       "    }\n",
       "</style>\n",
       "<table border=\"1\" class=\"dataframe\">\n",
       "  <thead>\n",
       "    <tr style=\"text-align: right;\">\n",
       "      <th></th>\n",
       "      <th>files</th>\n",
       "    </tr>\n",
       "  </thead>\n",
       "  <tbody>\n",
       "    <tr>\n",
       "      <th>5883</th>\n",
       "      <td>WOMEN-Blouses_Shirts-id_00002846-01_7_additional</td>\n",
       "    </tr>\n",
       "    <tr>\n",
       "      <th>20957</th>\n",
       "      <td>WOMEN-Shorts-id_00004696-02_4_full</td>\n",
       "    </tr>\n",
       "    <tr>\n",
       "      <th>29310</th>\n",
       "      <td>WOMEN-Tees_Tanks-id_00004042-03_3_back</td>\n",
       "    </tr>\n",
       "    <tr>\n",
       "      <th>9463</th>\n",
       "      <td>WOMEN-Blouses_Shirts-id_00007528-03_7_additional</td>\n",
       "    </tr>\n",
       "    <tr>\n",
       "      <th>6829</th>\n",
       "      <td>WOMEN-Blouses_Shirts-id_00004164-03_4_full</td>\n",
       "    </tr>\n",
       "    <tr>\n",
       "      <th>...</th>\n",
       "      <td>...</td>\n",
       "    </tr>\n",
       "    <tr>\n",
       "      <th>19231</th>\n",
       "      <td>WOMEN-Rompers_Jumpsuits-id_00000658-02_1_front</td>\n",
       "    </tr>\n",
       "    <tr>\n",
       "      <th>13942</th>\n",
       "      <td>WOMEN-Dresses-id_00004796-05_3_back</td>\n",
       "    </tr>\n",
       "    <tr>\n",
       "      <th>23598</th>\n",
       "      <td>WOMEN-Sweaters-id_00005434-05_7_additional</td>\n",
       "    </tr>\n",
       "    <tr>\n",
       "      <th>22839</th>\n",
       "      <td>WOMEN-Sweaters-id_00002853-05_2_side</td>\n",
       "    </tr>\n",
       "    <tr>\n",
       "      <th>9039</th>\n",
       "      <td>WOMEN-Blouses_Shirts-id_00007039-02_1_front</td>\n",
       "    </tr>\n",
       "  </tbody>\n",
       "</table>\n",
       "<p>28717 rows × 1 columns</p>\n",
       "</div>"
      ],
      "text/plain": [
       "                                                  files\n",
       "5883   WOMEN-Blouses_Shirts-id_00002846-01_7_additional\n",
       "20957                WOMEN-Shorts-id_00004696-02_4_full\n",
       "29310            WOMEN-Tees_Tanks-id_00004042-03_3_back\n",
       "9463   WOMEN-Blouses_Shirts-id_00007528-03_7_additional\n",
       "6829         WOMEN-Blouses_Shirts-id_00004164-03_4_full\n",
       "...                                                 ...\n",
       "19231    WOMEN-Rompers_Jumpsuits-id_00000658-02_1_front\n",
       "13942               WOMEN-Dresses-id_00004796-05_3_back\n",
       "23598        WOMEN-Sweaters-id_00005434-05_7_additional\n",
       "22839              WOMEN-Sweaters-id_00002853-05_2_side\n",
       "9039        WOMEN-Blouses_Shirts-id_00007039-02_1_front\n",
       "\n",
       "[28717 rows x 1 columns]"
      ]
     },
     "execution_count": 167,
     "metadata": {},
     "output_type": "execute_result"
    }
   ],
   "source": [
    "train"
   ]
  },
  {
   "cell_type": "code",
   "execution_count": 168,
   "metadata": {},
   "outputs": [],
   "source": [
    "train_files =[]\n",
    "for i in range(0,len(train)):\n",
    "    train_files.append(train.iloc[i,0])"
   ]
  },
  {
   "cell_type": "code",
   "execution_count": 169,
   "metadata": {},
   "outputs": [],
   "source": []
  },
  {
   "cell_type": "code",
   "execution_count": 170,
   "metadata": {},
   "outputs": [],
   "source": [
    "test_files =[]\n",
    "for i in range(0,len(test)):\n",
    "    test_files.append(test.iloc[i,0])"
   ]
  },
  {
   "cell_type": "code",
   "execution_count": 171,
   "metadata": {},
   "outputs": [],
   "source": []
  },
  {
   "cell_type": "code",
   "execution_count": 172,
   "metadata": {},
   "outputs": [
    {
     "data": {
      "text/plain": [
       "(5068, 28717)"
      ]
     },
     "execution_count": 172,
     "metadata": {},
     "output_type": "execute_result"
    }
   ],
   "source": [
    "len(test_files), len(train_files)"
   ]
  },
  {
   "cell_type": "code",
   "execution_count": 173,
   "metadata": {},
   "outputs": [],
   "source": [
    "with open(r'C:\\Users\\ambat\\Documents\\NN DL\\fashion_temp1\\train\\filenames.pickle', 'wb') as f:\n",
    "    pickle.dump(train_files, f)"
   ]
  },
  {
   "cell_type": "code",
   "execution_count": 174,
   "metadata": {},
   "outputs": [],
   "source": [
    "with open(r'C:\\Users\\ambat\\Documents\\NN DL\\fashion_temp1\\test\\filenames.pickle', 'wb') as f:\n",
    "    pickle.dump(test_files, f)"
   ]
  },
  {
   "cell_type": "code",
   "execution_count": null,
   "metadata": {},
   "outputs": [],
   "source": []
  }
 ],
 "metadata": {
  "environment": {
   "kernel": "conda-base-py",
   "name": "workbench-notebooks.m120",
   "type": "gcloud",
   "uri": "us-docker.pkg.dev/deeplearning-platform-release/gcr.io/workbench-notebooks:m120"
  },
  "kernelspec": {
   "display_name": "Python 3 (ipykernel)",
   "language": "python",
   "name": "conda-base-py"
  },
  "language_info": {
   "codemirror_mode": {
    "name": "ipython",
    "version": 3
   },
   "file_extension": ".py",
   "mimetype": "text/x-python",
   "name": "python",
   "nbconvert_exporter": "python",
   "pygments_lexer": "ipython3",
   "version": "3.10.14"
  }
 },
 "nbformat": 4,
 "nbformat_minor": 4
}
